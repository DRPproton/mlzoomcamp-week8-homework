{
 "cells": [
  {
   "cell_type": "code",
   "execution_count": 1,
   "id": "5b58522d-c55e-404e-8699-cca2fb525cb7",
   "metadata": {
    "execution": {
     "iopub.execute_input": "2023-11-13T16:42:20.530242Z",
     "iopub.status.busy": "2023-11-13T16:42:20.529851Z",
     "iopub.status.idle": "2023-11-13T16:42:20.534169Z",
     "shell.execute_reply": "2023-11-13T16:42:20.533157Z",
     "shell.execute_reply.started": "2023-11-13T16:42:20.530217Z"
    },
    "tags": []
   },
   "outputs": [],
   "source": [
    "# Donwload and unzip the data\n",
    "\n",
    "# !wget https://github.com/SVizor42/ML_Zoomcamp/releases/download/bee-wasp-data/data.zip\n",
    "# !unzip data.zip"
   ]
  },
  {
   "cell_type": "markdown",
   "id": "7cca57b6-2f08-431b-b859-46f262c9893b",
   "metadata": {},
   "source": [
    "### Importing libraires"
   ]
  },
  {
   "cell_type": "code",
   "execution_count": 3,
   "id": "90e22810-b17e-48b4-b35b-4b26107db5e9",
   "metadata": {
    "execution": {
     "iopub.execute_input": "2023-11-13T16:42:52.018646Z",
     "iopub.status.busy": "2023-11-13T16:42:52.018064Z",
     "iopub.status.idle": "2023-11-13T16:42:52.022978Z",
     "shell.execute_reply": "2023-11-13T16:42:52.022108Z",
     "shell.execute_reply.started": "2023-11-13T16:42:52.018611Z"
    },
    "tags": []
   },
   "outputs": [],
   "source": [
    "import tensorflow as tf\n",
    "from tensorflow import keras\n",
    "from tensorflow.keras import layers\n",
    "from tensorflow.keras import optimizers\n",
    "from tensorflow.keras import models\n",
    "\n",
    "from tensorflow.keras.preprocessing import image \n",
    "from tensorflow.keras.preprocessing.image import ImageDataGenerator"
   ]
  },
  {
   "cell_type": "markdown",
   "id": "4515b0be-4708-4a1b-b501-acd0a0bda75d",
   "metadata": {},
   "source": [
    "#### Making variables for the paths"
   ]
  },
  {
   "cell_type": "code",
   "execution_count": 4,
   "id": "55b94b3c-a9ba-48c3-b295-76edc8d2e5a8",
   "metadata": {
    "execution": {
     "iopub.execute_input": "2023-11-13T16:43:00.439894Z",
     "iopub.status.busy": "2023-11-13T16:43:00.439517Z",
     "iopub.status.idle": "2023-11-13T16:43:00.443379Z",
     "shell.execute_reply": "2023-11-13T16:43:00.442661Z",
     "shell.execute_reply.started": "2023-11-13T16:43:00.439866Z"
    },
    "tags": []
   },
   "outputs": [],
   "source": [
    "train_path = '/home/jovyan/workspace/clothing-dataset-small/data/train'\n",
    "test_path = '/home/jovyan/workspace/clothing-dataset-small/data/test'"
   ]
  },
  {
   "cell_type": "markdown",
   "id": "f5abbaad-b59e-44a2-a5eb-e7dddbf9496f",
   "metadata": {},
   "source": [
    "### CNN Model"
   ]
  },
  {
   "cell_type": "code",
   "execution_count": 6,
   "id": "2df47475-b63f-4f0a-b257-afd09387cbbb",
   "metadata": {
    "execution": {
     "iopub.execute_input": "2023-11-13T16:46:35.345689Z",
     "iopub.status.busy": "2023-11-13T16:46:35.345307Z",
     "iopub.status.idle": "2023-11-13T16:46:35.376532Z",
     "shell.execute_reply": "2023-11-13T16:46:35.375998Z",
     "shell.execute_reply.started": "2023-11-13T16:46:35.345666Z"
    },
    "tags": []
   },
   "outputs": [],
   "source": [
    "model = models.Sequential()\n",
    "model.add(layers.Conv2D(32, kernel_size=(3,3), activation='relu',input_shape=(150,150,3)))\n",
    "model.add(layers.MaxPooling2D(pool_size=(2,2)))\n",
    "model.add(layers.Flatten())\n",
    "model.add(layers.Dense(64, activation='relu'))\n",
    "model.add(layers.Dense(1, activation='sigmoid'))"
   ]
  },
  {
   "cell_type": "code",
   "execution_count": 8,
   "id": "15eb21a5-34bd-470c-a3b5-078367376956",
   "metadata": {
    "execution": {
     "iopub.execute_input": "2023-11-13T16:47:15.870981Z",
     "iopub.status.busy": "2023-11-13T16:47:15.870594Z",
     "iopub.status.idle": "2023-11-13T16:47:15.874844Z",
     "shell.execute_reply": "2023-11-13T16:47:15.874095Z",
     "shell.execute_reply.started": "2023-11-13T16:47:15.870957Z"
    },
    "tags": []
   },
   "outputs": [],
   "source": [
    "optimizer = optimizers.SGD(lr=0.002, momentum=0.8)"
   ]
  },
  {
   "cell_type": "code",
   "execution_count": 9,
   "id": "2544ef6d-37a0-449b-a230-410d9bb13408",
   "metadata": {
    "execution": {
     "iopub.execute_input": "2023-11-13T16:47:30.957034Z",
     "iopub.status.busy": "2023-11-13T16:47:30.956654Z",
     "iopub.status.idle": "2023-11-13T16:47:30.968153Z",
     "shell.execute_reply": "2023-11-13T16:47:30.967630Z",
     "shell.execute_reply.started": "2023-11-13T16:47:30.957010Z"
    },
    "tags": []
   },
   "outputs": [],
   "source": [
    "model.compile(loss='binary_crossentropy', optimizer=optimizer, metrics=['accuracy'])"
   ]
  },
  {
   "cell_type": "markdown",
   "id": "dca6f74e-3ddc-43b1-8287-4344d191d7ca",
   "metadata": {},
   "source": [
    "### Question 1\n",
    "\n",
    "Since we have a binary classification problem, what is the best loss function for us?\n",
    "\n",
    "* `mean squared error`\n",
    "* `binary crossentropy`\n",
    "* `categorical crossentropy`\n",
    "* `cosine similarity`\n",
    "\n",
    "> **Note:** since we specify an activation for the output layer, we don't need to set `from_logits=True`"
   ]
  },
  {
   "cell_type": "markdown",
   "id": "1520ea6f-768e-44af-8de3-9602f694097c",
   "metadata": {},
   "source": [
    "- Answer question 1 =>  **binary crossentropy**"
   ]
  },
  {
   "cell_type": "markdown",
   "id": "eda78295-ae97-494d-9630-3dc99d122ac6",
   "metadata": {},
   "source": [
    "### Question 2\n",
    "\n",
    "What's the number of parameters in the convolutional layer of our model? You can use the `summary` method for that. \n",
    "\n",
    "* 1 \n",
    "* 65\n",
    "* 896\n",
    "* 11214912"
   ]
  },
  {
   "cell_type": "code",
   "execution_count": 10,
   "id": "7c1ad00f-0630-477b-b739-ae720bf8df3f",
   "metadata": {
    "execution": {
     "iopub.execute_input": "2023-11-13T16:47:42.878016Z",
     "iopub.status.busy": "2023-11-13T16:47:42.877623Z",
     "iopub.status.idle": "2023-11-13T16:47:42.896305Z",
     "shell.execute_reply": "2023-11-13T16:47:42.895555Z",
     "shell.execute_reply.started": "2023-11-13T16:47:42.877990Z"
    },
    "tags": []
   },
   "outputs": [
    {
     "name": "stdout",
     "output_type": "stream",
     "text": [
      "Model: \"sequential_1\"\n",
      "_________________________________________________________________\n",
      " Layer (type)                Output Shape              Param #   \n",
      "=================================================================\n",
      " conv2d_1 (Conv2D)           (None, 148, 148, 32)      896       \n",
      "                                                                 \n",
      " max_pooling2d_1 (MaxPooling  (None, 74, 74, 32)       0         \n",
      " 2D)                                                             \n",
      "                                                                 \n",
      " flatten_1 (Flatten)         (None, 175232)            0         \n",
      "                                                                 \n",
      " dense_2 (Dense)             (None, 64)                11214912  \n",
      "                                                                 \n",
      " dense_3 (Dense)             (None, 1)                 65        \n",
      "                                                                 \n",
      "=================================================================\n",
      "Total params: 11,215,873\n",
      "Trainable params: 11,215,873\n",
      "Non-trainable params: 0\n",
      "_________________________________________________________________\n"
     ]
    }
   ],
   "source": [
    "model.summary()"
   ]
  },
  {
   "cell_type": "markdown",
   "id": "c25d5e6d-0676-4f20-a2e0-30d93213a87b",
   "metadata": {},
   "source": [
    "- Answer question 2 =>  **896**"
   ]
  },
  {
   "cell_type": "markdown",
   "id": "86162765-3744-4ca0-942e-bf3228710020",
   "metadata": {},
   "source": [
    "### Generators and Training"
   ]
  },
  {
   "cell_type": "markdown",
   "id": "34bb488d-6f63-4c89-9382-4c1834fb3442",
   "metadata": {},
   "source": [
    "#### Train data"
   ]
  },
  {
   "cell_type": "code",
   "execution_count": 11,
   "id": "1704aa10-c94e-4051-aa49-fdf7ac41b7c3",
   "metadata": {
    "execution": {
     "iopub.execute_input": "2023-11-13T16:47:52.623000Z",
     "iopub.status.busy": "2023-11-13T16:47:52.622623Z",
     "iopub.status.idle": "2023-11-13T16:47:52.683495Z",
     "shell.execute_reply": "2023-11-13T16:47:52.682766Z",
     "shell.execute_reply.started": "2023-11-13T16:47:52.622978Z"
    },
    "tags": []
   },
   "outputs": [
    {
     "name": "stdout",
     "output_type": "stream",
     "text": [
      "Found 3677 images belonging to 2 classes.\n"
     ]
    }
   ],
   "source": [
    "train_gen = ImageDataGenerator(rescale=1./255)\n",
    "\n",
    "train_generator = train_gen.flow_from_directory(train_path,\n",
    "                                                target_size=(150, 150),\n",
    "                                                batch_size=20, \n",
    "                                                shuffle=True,\n",
    "                                                class_mode='binary'\n",
    "                                                )"
   ]
  },
  {
   "cell_type": "markdown",
   "id": "91997b47-3715-4c85-9b28-454483763f5f",
   "metadata": {},
   "source": [
    "#### Test data"
   ]
  },
  {
   "cell_type": "code",
   "execution_count": 12,
   "id": "d704fe36-3fff-44ed-b482-d2dd3fa0634e",
   "metadata": {
    "execution": {
     "iopub.execute_input": "2023-11-13T16:48:26.690523Z",
     "iopub.status.busy": "2023-11-13T16:48:26.690147Z",
     "iopub.status.idle": "2023-11-13T16:48:26.710023Z",
     "shell.execute_reply": "2023-11-13T16:48:26.709295Z",
     "shell.execute_reply.started": "2023-11-13T16:48:26.690497Z"
    },
    "tags": []
   },
   "outputs": [
    {
     "name": "stdout",
     "output_type": "stream",
     "text": [
      "Found 918 images belonging to 2 classes.\n"
     ]
    }
   ],
   "source": [
    "test_gen = ImageDataGenerator(rescale=1./255)\n",
    "\n",
    "test_generator = test_gen.flow_from_directory(test_path,\n",
    "                                              target_size=(150, 150),\n",
    "                                              batch_size=20,\n",
    "                                              shuffle=True,\n",
    "                                              class_mode='binary'\n",
    "                                             )"
   ]
  },
  {
   "cell_type": "code",
   "execution_count": 13,
   "id": "aa026558-fa45-4306-ada7-1fcd8cd3a018",
   "metadata": {
    "execution": {
     "iopub.execute_input": "2023-11-13T16:48:30.711807Z",
     "iopub.status.busy": "2023-11-13T16:48:30.711400Z",
     "iopub.status.idle": "2023-11-13T16:48:30.810562Z",
     "shell.execute_reply": "2023-11-13T16:48:30.809795Z",
     "shell.execute_reply.started": "2023-11-13T16:48:30.711781Z"
    },
    "tags": []
   },
   "outputs": [
    {
     "name": "stdout",
     "output_type": "stream",
     "text": [
      "data batch shape: (20, 150, 150, 3)\n",
      "labels batch shape: (20,)\n"
     ]
    }
   ],
   "source": [
    "#@ INSPECTING:\n",
    "for data_batch, labels_batch in train_generator:\n",
    "    print('data batch shape:', data_batch.shape)\n",
    "    print('labels batch shape:', labels_batch.shape)\n",
    "    break"
   ]
  },
  {
   "cell_type": "code",
   "execution_count": 14,
   "id": "1d1c2de7-ab38-4f6e-adc7-36996c1de664",
   "metadata": {
    "execution": {
     "iopub.execute_input": "2023-11-13T16:52:32.806851Z",
     "iopub.status.busy": "2023-11-13T16:52:32.806463Z",
     "iopub.status.idle": "2023-11-13T16:53:59.570614Z",
     "shell.execute_reply": "2023-11-13T16:53:59.569937Z",
     "shell.execute_reply.started": "2023-11-13T16:52:32.806827Z"
    },
    "tags": []
   },
   "outputs": [
    {
     "name": "stdout",
     "output_type": "stream",
     "text": [
      "Epoch 1/10\n"
     ]
    },
    {
     "name": "stderr",
     "output_type": "stream",
     "text": [
      "2023-11-13 16:52:33.915099: I tensorflow/stream_executor/cuda/cuda_dnn.cc:384] Loaded cuDNN version 8100\n",
      "2023-11-13 16:52:34.538908: I tensorflow/core/platform/default/subprocess.cc:304] Start cannot spawn child process: No such file or directory\n",
      "2023-11-13 16:52:34.539686: I tensorflow/core/platform/default/subprocess.cc:304] Start cannot spawn child process: No such file or directory\n",
      "2023-11-13 16:52:34.539724: W tensorflow/stream_executor/gpu/asm_compiler.cc:80] Couldn't get ptxas version string: INTERNAL: Couldn't invoke ptxas --version\n",
      "2023-11-13 16:52:34.540589: I tensorflow/core/platform/default/subprocess.cc:304] Start cannot spawn child process: No such file or directory\n",
      "2023-11-13 16:52:34.540669: W tensorflow/stream_executor/gpu/redzone_allocator.cc:314] INTERNAL: Failed to launch ptxas\n",
      "Relying on driver to perform ptx compilation. \n",
      "Modify $PATH to customize ptxas location.\n",
      "This message will be only logged once.\n"
     ]
    },
    {
     "name": "stdout",
     "output_type": "stream",
     "text": [
      "184/184 [==============================] - 13s 61ms/step - loss: 0.6726 - accuracy: 0.5668 - val_loss: 0.7040 - val_accuracy: 0.5370\n",
      "Epoch 2/10\n",
      "184/184 [==============================] - 8s 44ms/step - loss: 0.6212 - accuracy: 0.6478 - val_loss: 0.6414 - val_accuracy: 0.5621\n",
      "Epoch 3/10\n",
      "184/184 [==============================] - 8s 45ms/step - loss: 0.5774 - accuracy: 0.7006 - val_loss: 0.5635 - val_accuracy: 0.7288\n",
      "Epoch 4/10\n",
      "184/184 [==============================] - 8s 45ms/step - loss: 0.5428 - accuracy: 0.7278 - val_loss: 0.5562 - val_accuracy: 0.7222\n",
      "Epoch 5/10\n",
      "184/184 [==============================] - 8s 43ms/step - loss: 0.5081 - accuracy: 0.7582 - val_loss: 0.5232 - val_accuracy: 0.7440\n",
      "Epoch 6/10\n",
      "184/184 [==============================] - 8s 44ms/step - loss: 0.4891 - accuracy: 0.7737 - val_loss: 0.5279 - val_accuracy: 0.7582\n",
      "Epoch 7/10\n",
      "184/184 [==============================] - 8s 44ms/step - loss: 0.4628 - accuracy: 0.7884 - val_loss: 0.5229 - val_accuracy: 0.7495\n",
      "Epoch 8/10\n",
      "184/184 [==============================] - 8s 44ms/step - loss: 0.4339 - accuracy: 0.8115 - val_loss: 0.5217 - val_accuracy: 0.7571\n",
      "Epoch 9/10\n",
      "184/184 [==============================] - 8s 44ms/step - loss: 0.4115 - accuracy: 0.8202 - val_loss: 0.5442 - val_accuracy: 0.7462\n",
      "Epoch 10/10\n",
      "184/184 [==============================] - 8s 44ms/step - loss: 0.3759 - accuracy: 0.8412 - val_loss: 0.5039 - val_accuracy: 0.7658\n"
     ]
    }
   ],
   "source": [
    "history = model.fit(\n",
    "    train_generator,\n",
    "    epochs=10,\n",
    "    validation_data=test_generator\n",
    ")"
   ]
  },
  {
   "cell_type": "markdown",
   "id": "60b62c23-75ae-4b1f-8135-e70240151483",
   "metadata": {},
   "source": [
    "### Question 3\n",
    "\n",
    "What is the median of training accuracy for all the epochs for this model?\n",
    "\n",
    "* 0.20\n",
    "* 0.40\n",
    "* 0.60\n",
    "* 0.80\n"
   ]
  },
  {
   "cell_type": "code",
   "execution_count": 15,
   "id": "31242608-ca2a-4130-9402-3d9a82f9346f",
   "metadata": {
    "execution": {
     "iopub.execute_input": "2023-11-13T16:54:04.055134Z",
     "iopub.status.busy": "2023-11-13T16:54:04.054753Z",
     "iopub.status.idle": "2023-11-13T16:54:04.058719Z",
     "shell.execute_reply": "2023-11-13T16:54:04.057962Z",
     "shell.execute_reply.started": "2023-11-13T16:54:04.055110Z"
    },
    "tags": []
   },
   "outputs": [],
   "source": [
    "import numpy as np"
   ]
  },
  {
   "cell_type": "code",
   "execution_count": 16,
   "id": "54cd963d-92e7-409e-939a-c61d77572e9d",
   "metadata": {
    "execution": {
     "iopub.execute_input": "2023-11-13T16:54:04.842814Z",
     "iopub.status.busy": "2023-11-13T16:54:04.842456Z",
     "iopub.status.idle": "2023-11-13T16:54:04.849665Z",
     "shell.execute_reply": "2023-11-13T16:54:04.849042Z",
     "shell.execute_reply.started": "2023-11-13T16:54:04.842791Z"
    },
    "tags": []
   },
   "outputs": [
    {
     "data": {
      "text/plain": [
       "0.77"
      ]
     },
     "execution_count": 16,
     "metadata": {},
     "output_type": "execute_result"
    }
   ],
   "source": [
    "np.median(history.history['accuracy']).round(2)"
   ]
  },
  {
   "cell_type": "markdown",
   "id": "c3865309-d676-4b41-ae46-a303cff8760a",
   "metadata": {},
   "source": [
    "- Answer question 3 =>  **0.77**"
   ]
  },
  {
   "cell_type": "markdown",
   "id": "d0709ad5-dec3-4508-bb56-147155377a22",
   "metadata": {
    "execution": {
     "iopub.execute_input": "2023-11-10T22:36:46.478088Z",
     "iopub.status.busy": "2023-11-10T22:36:46.477411Z",
     "iopub.status.idle": "2023-11-10T22:36:46.483075Z",
     "shell.execute_reply": "2023-11-10T22:36:46.482254Z",
     "shell.execute_reply.started": "2023-11-10T22:36:46.478059Z"
    },
    "tags": []
   },
   "source": [
    "### Question 4\n",
    "\n",
    "What is the standard deviation of training loss for all the epochs for this model?\n",
    "\n",
    "- 0.031\n",
    "- 0.061\n",
    "- 0.091\n",
    "- 0.131"
   ]
  },
  {
   "cell_type": "code",
   "execution_count": 19,
   "id": "0e6a09c5-73e0-4b75-afa4-b641b76c0474",
   "metadata": {
    "execution": {
     "iopub.execute_input": "2023-11-13T16:55:09.116217Z",
     "iopub.status.busy": "2023-11-13T16:55:09.115820Z",
     "iopub.status.idle": "2023-11-13T16:55:09.121065Z",
     "shell.execute_reply": "2023-11-13T16:55:09.120351Z",
     "shell.execute_reply.started": "2023-11-13T16:55:09.116192Z"
    },
    "tags": []
   },
   "outputs": [
    {
     "data": {
      "text/plain": [
       "0.09"
      ]
     },
     "execution_count": 19,
     "metadata": {},
     "output_type": "execute_result"
    }
   ],
   "source": [
    "np.std(history.history['loss']).round(3)"
   ]
  },
  {
   "cell_type": "markdown",
   "id": "c57c4899-9e93-4ccf-9341-8119f8b2a462",
   "metadata": {},
   "source": [
    "- Answer question 4 =>  **0.09**"
   ]
  },
  {
   "cell_type": "markdown",
   "id": "e4d769de-b587-469d-8d6e-f6016c232bc6",
   "metadata": {},
   "source": [
    "### Data Augmentation\n",
    "\n",
    "For the next two questions, we'll generate more data using data augmentations. \n",
    "\n",
    "Add the following augmentations to your training data generator:\n",
    "\n",
    "* `rotation_range=50,`\n",
    "* `width_shift_range=0.1,`\n",
    "* `height_shift_range=0.1,`\n",
    "* `zoom_range=0.1,`\n",
    "* `horizontal_flip=True,`\n",
    "* `fill_mode='nearest'`"
   ]
  },
  {
   "cell_type": "code",
   "execution_count": 20,
   "id": "562bd69e-7cf4-49fd-85b9-9cd9160e5ad7",
   "metadata": {
    "execution": {
     "iopub.execute_input": "2023-11-13T16:55:49.720478Z",
     "iopub.status.busy": "2023-11-13T16:55:49.720089Z",
     "iopub.status.idle": "2023-11-13T16:55:49.777551Z",
     "shell.execute_reply": "2023-11-13T16:55:49.776875Z",
     "shell.execute_reply.started": "2023-11-13T16:55:49.720453Z"
    },
    "tags": []
   },
   "outputs": [
    {
     "name": "stdout",
     "output_type": "stream",
     "text": [
      "Found 3677 images belonging to 2 classes.\n"
     ]
    }
   ],
   "source": [
    "train_gen = ImageDataGenerator(rescale=1./255,\n",
    "                               rotation_range=50,\n",
    "                               width_shift_range=0.1,\n",
    "                               height_shift_range=0.1,\n",
    "                               zoom_range=0.1,\n",
    "                               horizontal_flip=True,\n",
    "                               fill_mode='nearest')\n",
    "\n",
    "train_generator = train_gen.flow_from_directory(train_path,\n",
    "                                                target_size=(150, 150),\n",
    "                                                batch_size=20, \n",
    "                                                shuffle=True,\n",
    "                                                class_mode='binary'\n",
    "                                                )"
   ]
  },
  {
   "cell_type": "code",
   "execution_count": 21,
   "id": "7befa9bd-36a1-4b76-9ba5-8f0137a30792",
   "metadata": {
    "execution": {
     "iopub.execute_input": "2023-11-13T16:55:52.620059Z",
     "iopub.status.busy": "2023-11-13T16:55:52.619684Z",
     "iopub.status.idle": "2023-11-13T16:59:41.730993Z",
     "shell.execute_reply": "2023-11-13T16:59:41.730341Z",
     "shell.execute_reply.started": "2023-11-13T16:55:52.620036Z"
    },
    "tags": []
   },
   "outputs": [
    {
     "name": "stdout",
     "output_type": "stream",
     "text": [
      "Epoch 1/10\n",
      "184/184 [==============================] - 23s 124ms/step - loss: 0.5001 - accuracy: 0.7604 - val_loss: 0.5023 - val_accuracy: 0.7647\n",
      "Epoch 2/10\n",
      "184/184 [==============================] - 23s 124ms/step - loss: 0.4900 - accuracy: 0.7656 - val_loss: 0.4848 - val_accuracy: 0.7854\n",
      "Epoch 3/10\n",
      "184/184 [==============================] - 23s 124ms/step - loss: 0.4797 - accuracy: 0.7745 - val_loss: 0.4895 - val_accuracy: 0.7800\n",
      "Epoch 4/10\n",
      "184/184 [==============================] - 23s 125ms/step - loss: 0.4865 - accuracy: 0.7699 - val_loss: 0.4760 - val_accuracy: 0.7887\n",
      "Epoch 5/10\n",
      "184/184 [==============================] - 23s 123ms/step - loss: 0.4759 - accuracy: 0.7759 - val_loss: 0.5072 - val_accuracy: 0.7691\n",
      "Epoch 6/10\n",
      "184/184 [==============================] - 23s 124ms/step - loss: 0.4747 - accuracy: 0.7800 - val_loss: 0.5164 - val_accuracy: 0.7723\n",
      "Epoch 7/10\n",
      "184/184 [==============================] - 23s 125ms/step - loss: 0.4609 - accuracy: 0.7922 - val_loss: 0.4739 - val_accuracy: 0.7843\n",
      "Epoch 8/10\n",
      "184/184 [==============================] - 23s 124ms/step - loss: 0.4723 - accuracy: 0.7824 - val_loss: 0.4849 - val_accuracy: 0.7800\n",
      "Epoch 9/10\n",
      "184/184 [==============================] - 23s 126ms/step - loss: 0.4720 - accuracy: 0.7770 - val_loss: 0.4620 - val_accuracy: 0.7908\n",
      "Epoch 10/10\n",
      "184/184 [==============================] - 23s 124ms/step - loss: 0.4692 - accuracy: 0.7849 - val_loss: 0.4676 - val_accuracy: 0.7800\n"
     ]
    }
   ],
   "source": [
    "history_da = model.fit(\n",
    "    train_generator,\n",
    "    epochs=10,\n",
    "    validation_data=test_generator\n",
    ")"
   ]
  },
  {
   "cell_type": "markdown",
   "id": "a124d89f-2ace-43f5-b7a2-99a81ce0337a",
   "metadata": {},
   "source": [
    "### Question 5 \n",
    "\n",
    "Let's train our model for 10 more epochs using the same code as previously.\n",
    "> **Note:** make sure you don't re-create the model - we want to continue training the model\n",
    "we already started training.\n",
    "\n",
    "What is the mean of test loss for all the epochs for the model trained with augmentations?\n",
    "\n",
    "* 0.18\n",
    "* 0.48\n",
    "* 0.78\n",
    "* 0.108"
   ]
  },
  {
   "cell_type": "code",
   "execution_count": 22,
   "id": "5e81376b-1d1c-4077-9575-6d1ea49906cf",
   "metadata": {
    "execution": {
     "iopub.execute_input": "2023-11-13T16:59:53.675307Z",
     "iopub.status.busy": "2023-11-13T16:59:53.674926Z",
     "iopub.status.idle": "2023-11-13T16:59:53.680537Z",
     "shell.execute_reply": "2023-11-13T16:59:53.679752Z",
     "shell.execute_reply.started": "2023-11-13T16:59:53.675281Z"
    },
    "tags": []
   },
   "outputs": [
    {
     "data": {
      "text/plain": [
       "0.486"
      ]
     },
     "execution_count": 22,
     "metadata": {},
     "output_type": "execute_result"
    }
   ],
   "source": [
    "np.mean(history_da.history['val_loss']).round(3)"
   ]
  },
  {
   "cell_type": "markdown",
   "id": "8caaad2b-9cdd-4a4e-9872-c9d87b0a2146",
   "metadata": {},
   "source": [
    "- Answer question 5 =>  **0.486**"
   ]
  },
  {
   "cell_type": "markdown",
   "id": "3eaf8c9e-29ae-4676-8f26-c286c0f5ffe3",
   "metadata": {},
   "source": [
    "### Question 6\n",
    "\n",
    "What's the average of test accuracy for the last 5 epochs (from 6 to 10)\n",
    "for the model trained with augmentations?\n",
    "\n",
    "* 0.38\n",
    "* 0.58\n",
    "* 0.78\n",
    "* 0.98"
   ]
  },
  {
   "cell_type": "code",
   "execution_count": 23,
   "id": "245020f2-d207-4c6a-b710-06a77a0f28d3",
   "metadata": {
    "execution": {
     "iopub.execute_input": "2023-11-13T17:00:08.774240Z",
     "iopub.status.busy": "2023-11-13T17:00:08.773839Z",
     "iopub.status.idle": "2023-11-13T17:00:08.779467Z",
     "shell.execute_reply": "2023-11-13T17:00:08.778725Z",
     "shell.execute_reply.started": "2023-11-13T17:00:08.774217Z"
    },
    "tags": []
   },
   "outputs": [
    {
     "data": {
      "text/plain": [
       "0.78"
      ]
     },
     "execution_count": 23,
     "metadata": {},
     "output_type": "execute_result"
    }
   ],
   "source": [
    "np.mean(history_da.history['val_accuracy'][5:10]).round(2)\n"
   ]
  },
  {
   "cell_type": "markdown",
   "id": "19031298-1504-4dcd-8bca-5cb9a3f808ef",
   "metadata": {},
   "source": [
    "- Answer question 6 =>  **0.78**"
   ]
  },
  {
   "cell_type": "code",
   "execution_count": null,
   "id": "3a0e2463-7902-4d68-9eb7-7553e07a5804",
   "metadata": {},
   "outputs": [],
   "source": []
  }
 ],
 "metadata": {
  "kernelspec": {
   "display_name": "saturn (Python 3)",
   "language": "python",
   "name": "python3"
  },
  "language_info": {
   "codemirror_mode": {
    "name": "ipython",
    "version": 3
   },
   "file_extension": ".py",
   "mimetype": "text/x-python",
   "name": "python",
   "nbconvert_exporter": "python",
   "pygments_lexer": "ipython3",
   "version": "3.9.15"
  }
 },
 "nbformat": 4,
 "nbformat_minor": 5
}
